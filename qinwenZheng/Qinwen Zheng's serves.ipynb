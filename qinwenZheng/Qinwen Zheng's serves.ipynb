{
 "cells": [
  {
   "cell_type": "code",
   "execution_count": null,
   "id": "7b44bc42",
   "metadata": {},
   "outputs": [],
   "source": [
    "import pandas as pd\n",
    "import matplotlib.pyplot as plt\n",
    "import matplotlib.ticker as ticker\n"
   ]
  },
  {
   "cell_type": "code",
   "execution_count": null,
   "id": "df55b3e0",
   "metadata": {},
   "outputs": [],
   "source": [
    "df = pd.read_csv(\"processed/zheng_career_matches.csv\")\n",
    "df = df.drop(['BPSaved', 'Time'], axis=1).dropna()\n",
    "\n",
    "# column names\n",
    "playerNames = 'playerNames'\n",
    "df.rename(columns={'Unnamed: 6': playerNames}, inplace=True)\n",
    "df"
   ]
  },
  {
   "cell_type": "code",
   "execution_count": null,
   "id": "18e09d13",
   "metadata": {},
   "outputs": [],
   "source": [
    "surface = 'Surface'\n",
    "score = 'Score'\n",
    "dateStr = 'Date'\n",
    "dateObj = 'dateObj'\n",
    "sampleSize = 'sampleSize'\n",
    "\n",
    "# opponents' rank\n",
    "vRk = 'vRk'\n",
    "# ace minus df\n",
    "serveNetGain = 'serveNetGain'\n",
    "aceRate = 'A%'\n",
    "dfRate = 'DF%'\n",
    "firstServeIn = '1stIn'\n",
    "firstServeWin = '1st%'\n",
    "secondServeWin = '2nd%'\n",
    "win = 'win'\n",
    "# player name\n",
    "playerOfInterest = 'zheng'\n",
    "# surface type\n",
    "grass = 'Grass'\n",
    "hard = 'Hard'\n",
    "clay = 'Clay'\n",
    "retire = 'RET'\n",
    "# group frequency\n",
    "freq = 'M'"
   ]
  },
  {
   "cell_type": "code",
   "execution_count": null,
   "id": "09f312e1",
   "metadata": {},
   "outputs": [],
   "source": [
    "# filter data\n",
    "df[dateStr] = df[dateStr].str.replace('\\u2011', '-')\n",
    "df[dateObj] = pd.to_datetime(df[dateStr], format='%d-%b-%Y') \n",
    "df = df[df[dateObj].dt.year >= 2022]\n",
    "# remove RET\n",
    "df = df[~df[score].str.contains(retire)]\n",
    "# remove Grass\n",
    "df = df[~df[surface].str.contains(grass)]\n",
    "df"
   ]
  },
  {
   "cell_type": "code",
   "execution_count": null,
   "id": "9fb6e6a4",
   "metadata": {},
   "outputs": [],
   "source": [
    "# convert to float\n",
    "cols_to_convert = [aceRate, dfRate, firstServeIn, firstServeWin, secondServeWin]\n",
    "\n",
    "for col in cols_to_convert:\n",
    "        df[col] = df[col].str.rstrip('%').astype('float') / 100.0\n",
    "  \n",
    "# add more attributes\n",
    "df[serveNetGain] = df[aceRate] - df[dfRate]\n",
    "df[win] = df[playerNames].str.split('d.').str[0].str.contains(playerOfInterest)\n",
    "\n",
    "# partition\n",
    "top15df = df[df[vRk]<=15]\n",
    "top50df = df[(df[vRk]<=50) & (df[vRk]>15)]\n",
    "othersDf = df[df[vRk]>50]\n",
    "\n",
    "print(f\"Num of matches: hard: {len(df[df[surface] == hard])}, clay: {len(df[df[surface] == clay])}\")\n",
    "print(f\"vs. top 15: {len(top15df)}, hard: {len(top15df[top15df[surface] == hard])}, clay: {len(top15df[top15df[surface] == clay])}\")\n",
    "print(f\"vs. top 50: {len(top50df)}, hard: {len(top50df[top50df[surface] == hard])}, clay: {len(top50df[top50df[surface] == clay])}\")\n",
    "print(f\"vs. others: {len(othersDf)}, hard: {len(othersDf[othersDf[surface] == hard])}, clay: {len(othersDf[othersDf[surface] == clay])}\")\n",
    "df\n"
   ]
  },
  {
   "cell_type": "code",
   "execution_count": null,
   "id": "3a2d4af9",
   "metadata": {},
   "outputs": [],
   "source": [
    "# group by month\n",
    "def getGroupedDf(df, freq=freq):\n",
    "    groupedDf = df.groupby(pd.Grouper(key=dateObj, freq=freq)).mean().dropna()\n",
    "    groupedDf[dateObj] = pd.to_datetime(groupedDf.index.get_level_values(0).astype(str), format='%Y-%m')\n",
    "    groupedDf[sampleSize] = df.groupby(pd.Grouper(key=dateObj, freq=freq)).size()\n",
    "    return groupedDf\n",
    "\n",
    "\n",
    "grouped15 = getGroupedDf(top15df)\n",
    "grouped15Clay = getGroupedDf(top15df[top15df[surface] == clay])\n",
    "grouped15Hard = getGroupedDf(top15df[top15df[surface] == hard])\n",
    "\n",
    "grouped50Clay = getGroupedDf(top50df)\n",
    "grouped50Clay = getGroupedDf(top50df[top50df[surface] == clay])\n",
    "grouped50Hard = getGroupedDf(top50df[top50df[surface] == hard])\n",
    "\n",
    "groupedOthersClay = getGroupedDf(othersDf)\n",
    "groupedOthersClay = getGroupedDf(othersDf[othersDf[surface] == clay])\n",
    "groupedOthersHard = getGroupedDf(othersDf[othersDf[surface] == hard])\n"
   ]
  },
  {
   "cell_type": "code",
   "execution_count": null,
   "id": "2f608840",
   "metadata": {},
   "outputs": [],
   "source": []
  },
  {
   "cell_type": "code",
   "execution_count": null,
   "id": "fb097ea2",
   "metadata": {},
   "outputs": [],
   "source": [
    "def plotScatterByGroups(groupedDfArr,attributeOfInterest, title,  hline=False):\n",
    "    labelArr=['vs .top 15', 'vs. top 50', 'vs. others']\n",
    "    xLabel=dateStr\n",
    "    yLabel='Percentage'\n",
    "    dotScale = 10\n",
    "    PERC = 100\n",
    "    #plt.style.use('ggplot')\n",
    "    fig, ax = plt.subplots(figsize=(10, 5))  # Optional: Set the figure size\n",
    "    for i in range(len(groupedDfArr)):\n",
    "      groupedDf = groupedDfArr[i]\n",
    "      label = labelArr[i]\n",
    "      ax.scatter(groupedDf[dateObj], groupedDf[attributeOfInterest] * PERC, label=label, s=dotScale * groupedDf[sampleSize])\n",
    "      ax.plot(groupedDf[dateObj],  groupedDf[attributeOfInterest] * PERC, '--') \n",
    "    ax.set_xlabel(xLabel)  # Label for x-axis\n",
    "    ax.set_ylabel(yLabel)  # Label for y-axis\n",
    "    ax.set_title(title)  # Title of the plot\n",
    "    #ax.grid(True)\n",
    "    if hline:\n",
    "        ax.axhline(0, color='black') \n",
    "    ax.legend()  # Show the legend\n",
    "    plt.show()  # Display the plot\n",
    "    "
   ]
  },
  {
   "cell_type": "code",
   "execution_count": null,
   "id": "06a6a1bc",
   "metadata": {},
   "outputs": [],
   "source": [
    "title = 'Qinwen Zheng\\' 1st serve in: Clay'\n",
    "attributeOfInterest = firstServeIn\n",
    "groupedDfArr = [grouped15Clay, grouped50Clay, groupedOthersClay]\n",
    "plotScatterByGroups(groupedDfArr, attributeOfInterest, title)"
   ]
  },
  {
   "cell_type": "code",
   "execution_count": null,
   "id": "24171028",
   "metadata": {},
   "outputs": [],
   "source": [
    "title = 'Qinwen Zheng\\' 1st serve in: Hard'\n",
    "attributeOfInterest = firstServeIn\n",
    "groupedDfArr = [grouped15Hard, grouped50Hard, groupedOthersHard]\n",
    "plotScatterByGroups(groupedDfArr, attributeOfInterest, title)"
   ]
  },
  {
   "cell_type": "code",
   "execution_count": null,
   "id": "9cdd1374",
   "metadata": {},
   "outputs": [],
   "source": [
    "title = 'Qinwen Zheng\\' 1st serve win: Clay'\n",
    "attributeOfInterest = firstServeWin\n",
    "groupedDfArr = [grouped15Clay, grouped50Clay, groupedOthersClay]\n",
    "plotScatterByGroups(groupedDfArr, attributeOfInterest, title)"
   ]
  },
  {
   "cell_type": "code",
   "execution_count": null,
   "id": "945e3385",
   "metadata": {},
   "outputs": [],
   "source": [
    "title = 'Qinwen Zheng\\' 1st serve win: Hard'\n",
    "attributeOfInterest = firstServeWin\n",
    "groupedDfArr = [grouped15Hard, grouped50Hard, groupedOthersHard]\n",
    "plotScatterByGroups(groupedDfArr, attributeOfInterest, title)"
   ]
  },
  {
   "cell_type": "code",
   "execution_count": null,
   "id": "989064fa",
   "metadata": {},
   "outputs": [],
   "source": [
    "title = 'Qinwen Zheng\\' 2nd serve win: Clay'\n",
    "attributeOfInterest = secondServeWin\n",
    "groupedDfArr = [grouped15Clay, grouped50Clay, groupedOthersClay]\n",
    "plotScatterByGroups(groupedDfArr, attributeOfInterest, title)"
   ]
  },
  {
   "cell_type": "code",
   "execution_count": null,
   "id": "a3de5f43",
   "metadata": {},
   "outputs": [],
   "source": [
    "title = 'Qinwen Zheng\\' 2nd serve win: Hard'\n",
    "attributeOfInterest = secondServeWin\n",
    "groupedDfArr = [grouped15Hard, grouped50Hard, groupedOthersHard]\n",
    "plotScatterByGroups(groupedDfArr, attributeOfInterest, title)"
   ]
  }
 ],
 "metadata": {
  "kernelspec": {
   "display_name": "Python 3 (ipykernel)",
   "language": "python",
   "name": "python3"
  },
  "language_info": {
   "codemirror_mode": {
    "name": "ipython",
    "version": 3
   },
   "file_extension": ".py",
   "mimetype": "text/x-python",
   "name": "python",
   "nbconvert_exporter": "python",
   "pygments_lexer": "ipython3",
   "version": "3.9.13"
  }
 },
 "nbformat": 4,
 "nbformat_minor": 5
}
